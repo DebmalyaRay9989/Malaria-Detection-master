{
  "nbformat": 4,
  "nbformat_minor": 0,
  "metadata": {
    "kernelspec": {
      "display_name": "Python 3",
      "language": "python",
      "name": "python3"
    },
    "language_info": {
      "codemirror_mode": {
        "name": "ipython",
        "version": 3
      },
      "file_extension": ".py",
      "mimetype": "text/x-python",
      "name": "python",
      "nbconvert_exporter": "python",
      "pygments_lexer": "ipython3",
      "version": "3.7.4"
    },
    "colab": {
      "name": "CNN And Transfer LEarning.ipynb",
      "provenance": [],
      "collapsed_sections": []
    },
    "accelerator": "GPU"
  },
  "cells": [
    {
      "cell_type": "markdown",
      "metadata": {
        "id": "ummp8D0HD6IV"
      },
      "source": [
        "## Creating CNN Using Scratch And Transfer Learning"
      ]
    },
    {
      "cell_type": "markdown",
      "metadata": {
        "id": "rLvxn9lHD6Id"
      },
      "source": [
        "Please download the dataset from the below url"
      ]
    },
    {
      "cell_type": "code",
      "metadata": {
        "id": "WQ1-NakrD-gh"
      },
      "source": [
        "##!mkdir ~/.kaggle"
      ],
      "execution_count": 68,
      "outputs": []
    },
    {
      "cell_type": "code",
      "metadata": {
        "id": "F0hUNbEzEI2B"
      },
      "source": [
        "##!cp /kaggle.json ~/.kaggle/"
      ],
      "execution_count": 69,
      "outputs": []
    },
    {
      "cell_type": "code",
      "metadata": {
        "id": "EJQ0-MKZEUOu"
      },
      "source": [
        "##!chmod 600 ~/.kaggle/kaggle.json"
      ],
      "execution_count": 70,
      "outputs": []
    },
    {
      "cell_type": "code",
      "metadata": {
        "id": "-qWvT-jEEZMW"
      },
      "source": [
        "##! pip install kaggle"
      ],
      "execution_count": 71,
      "outputs": []
    },
    {
      "cell_type": "code",
      "metadata": {
        "id": "TRw_CcOZEd6H"
      },
      "source": [
        "#!pip install keras-tuner"
      ],
      "execution_count": 72,
      "outputs": []
    },
    {
      "cell_type": "code",
      "metadata": {
        "id": "DjETEMMrEjnW"
      },
      "source": [
        "#!kaggle datasets download -d iarunava/cell-images-for-detecting-malaria"
      ],
      "execution_count": 73,
      "outputs": []
    },
    {
      "cell_type": "code",
      "metadata": {
        "id": "5c0q8nQhExkp"
      },
      "source": [
        "#! unzip /content/cell-images-for-detecting-malaria.zip"
      ],
      "execution_count": 74,
      "outputs": []
    },
    {
      "cell_type": "code",
      "metadata": {
        "id": "ejiw-PoCFlp-"
      },
      "source": [
        "#! unzip /content/cell_images/Dataset.zip"
      ],
      "execution_count": 75,
      "outputs": []
    },
    {
      "cell_type": "markdown",
      "metadata": {
        "id": "zuTuLZ_dFlAH"
      },
      "source": [
        ""
      ]
    },
    {
      "cell_type": "code",
      "metadata": {
        "id": "zrtxxUemD6Ie"
      },
      "source": [
        "# import the libraries as shown below\n",
        "\n",
        "from tensorflow.keras.layers import Input, Lambda, Dense, Flatten,Conv2D\n",
        "from tensorflow.keras.models import Model\n",
        "from tensorflow.keras.applications.vgg19 import VGG19\n",
        "from tensorflow.keras.applications.resnet50 import preprocess_input\n",
        "from tensorflow.keras.preprocessing import image\n",
        "from tensorflow.keras.preprocessing.image import ImageDataGenerator,load_img\n",
        "from tensorflow.keras.models import Sequential\n",
        "import numpy as np\n",
        "from glob import glob\n",
        "import matplotlib.pyplot as plt"
      ],
      "execution_count": 76,
      "outputs": []
    },
    {
      "cell_type": "code",
      "metadata": {
        "id": "KBD7qyqJD6Ig"
      },
      "source": [
        "# re-size all the images to this\n",
        "IMAGE_SIZE = [224, 224]\n",
        "\n",
        "train_path = '/content/Dataset/Train'\n",
        "valid_path = '/content/Dataset/Test'\n"
      ],
      "execution_count": 77,
      "outputs": []
    },
    {
      "cell_type": "code",
      "metadata": {
        "id": "GUuwGTdcD6Ih"
      },
      "source": [
        "# Import the Vgg 16 library as shown below and add preprocessing layer to the front of VGG\n",
        "# Here we will be using imagenet weights\n",
        "\n",
        "mobilnet = VGG19(input_shape=IMAGE_SIZE + [3], weights='imagenet', include_top=False)\n",
        "\n",
        "\n"
      ],
      "execution_count": 78,
      "outputs": []
    },
    {
      "cell_type": "code",
      "metadata": {
        "id": "gVAQXtOtD6Ih"
      },
      "source": [
        "# don't train existing weights\n",
        "for layer in mobilnet.layers:\n",
        "    layer.trainable = False"
      ],
      "execution_count": 79,
      "outputs": []
    },
    {
      "cell_type": "code",
      "metadata": {
        "id": "dn8pk1rGD6Ii"
      },
      "source": [
        "  # useful for getting number of output classes\n",
        "folders = glob('Dataset/Train/*')"
      ],
      "execution_count": 80,
      "outputs": []
    },
    {
      "cell_type": "code",
      "metadata": {
        "colab": {
          "base_uri": "https://localhost:8080/"
        },
        "id": "5QvshhEtD6Ij",
        "outputId": "759a212b-85e2-4014-b12a-1b91fd5aef63"
      },
      "source": [
        "folders"
      ],
      "execution_count": 81,
      "outputs": [
        {
          "output_type": "execute_result",
          "data": {
            "text/plain": [
              "['Dataset/Train/Parasite', 'Dataset/Train/Uninfected']"
            ]
          },
          "metadata": {},
          "execution_count": 81
        }
      ]
    },
    {
      "cell_type": "code",
      "metadata": {
        "id": "Zk8Rdz1wD6Il"
      },
      "source": [
        "# our layers - you can add more if you want\n",
        "x = Flatten()(mobilnet.output)"
      ],
      "execution_count": 82,
      "outputs": []
    },
    {
      "cell_type": "code",
      "metadata": {
        "id": "GAKp_WV6D6Im"
      },
      "source": [
        "prediction = Dense(len(folders), activation='softmax')(x)\n",
        "\n",
        "# create a model object\n",
        "model = Model(inputs=mobilnet.input, outputs=prediction)"
      ],
      "execution_count": 83,
      "outputs": []
    },
    {
      "cell_type": "code",
      "metadata": {
        "colab": {
          "base_uri": "https://localhost:8080/"
        },
        "id": "hBwxPP3fD6Im",
        "outputId": "81e2d157-0d42-4c48-8d2c-c36acd153fc7"
      },
      "source": [
        "\n",
        "# view the structure of the model\n",
        "model.summary()\n"
      ],
      "execution_count": 84,
      "outputs": [
        {
          "output_type": "stream",
          "name": "stdout",
          "text": [
            "Model: \"model_1\"\n",
            "_________________________________________________________________\n",
            "Layer (type)                 Output Shape              Param #   \n",
            "=================================================================\n",
            "input_2 (InputLayer)         [(None, 224, 224, 3)]     0         \n",
            "_________________________________________________________________\n",
            "block1_conv1 (Conv2D)        (None, 224, 224, 64)      1792      \n",
            "_________________________________________________________________\n",
            "block1_conv2 (Conv2D)        (None, 224, 224, 64)      36928     \n",
            "_________________________________________________________________\n",
            "block1_pool (MaxPooling2D)   (None, 112, 112, 64)      0         \n",
            "_________________________________________________________________\n",
            "block2_conv1 (Conv2D)        (None, 112, 112, 128)     73856     \n",
            "_________________________________________________________________\n",
            "block2_conv2 (Conv2D)        (None, 112, 112, 128)     147584    \n",
            "_________________________________________________________________\n",
            "block2_pool (MaxPooling2D)   (None, 56, 56, 128)       0         \n",
            "_________________________________________________________________\n",
            "block3_conv1 (Conv2D)        (None, 56, 56, 256)       295168    \n",
            "_________________________________________________________________\n",
            "block3_conv2 (Conv2D)        (None, 56, 56, 256)       590080    \n",
            "_________________________________________________________________\n",
            "block3_conv3 (Conv2D)        (None, 56, 56, 256)       590080    \n",
            "_________________________________________________________________\n",
            "block3_conv4 (Conv2D)        (None, 56, 56, 256)       590080    \n",
            "_________________________________________________________________\n",
            "block3_pool (MaxPooling2D)   (None, 28, 28, 256)       0         \n",
            "_________________________________________________________________\n",
            "block4_conv1 (Conv2D)        (None, 28, 28, 512)       1180160   \n",
            "_________________________________________________________________\n",
            "block4_conv2 (Conv2D)        (None, 28, 28, 512)       2359808   \n",
            "_________________________________________________________________\n",
            "block4_conv3 (Conv2D)        (None, 28, 28, 512)       2359808   \n",
            "_________________________________________________________________\n",
            "block4_conv4 (Conv2D)        (None, 28, 28, 512)       2359808   \n",
            "_________________________________________________________________\n",
            "block4_pool (MaxPooling2D)   (None, 14, 14, 512)       0         \n",
            "_________________________________________________________________\n",
            "block5_conv1 (Conv2D)        (None, 14, 14, 512)       2359808   \n",
            "_________________________________________________________________\n",
            "block5_conv2 (Conv2D)        (None, 14, 14, 512)       2359808   \n",
            "_________________________________________________________________\n",
            "block5_conv3 (Conv2D)        (None, 14, 14, 512)       2359808   \n",
            "_________________________________________________________________\n",
            "block5_conv4 (Conv2D)        (None, 14, 14, 512)       2359808   \n",
            "_________________________________________________________________\n",
            "block5_pool (MaxPooling2D)   (None, 7, 7, 512)         0         \n",
            "_________________________________________________________________\n",
            "flatten_2 (Flatten)          (None, 25088)             0         \n",
            "_________________________________________________________________\n",
            "dense_3 (Dense)              (None, 2)                 50178     \n",
            "=================================================================\n",
            "Total params: 20,074,562\n",
            "Trainable params: 50,178\n",
            "Non-trainable params: 20,024,384\n",
            "_________________________________________________________________\n"
          ]
        }
      ]
    },
    {
      "cell_type": "code",
      "metadata": {
        "id": "zrKpLkpAD6In"
      },
      "source": [
        "from tensorflow.keras.layers import MaxPooling2D"
      ],
      "execution_count": 85,
      "outputs": []
    },
    {
      "cell_type": "code",
      "metadata": {
        "colab": {
          "base_uri": "https://localhost:8080/"
        },
        "id": "hnfwPE2qD6In",
        "outputId": "39e5e0af-5039-44e7-8f28-2ddec8f236c8"
      },
      "source": [
        "### Create Model from scratch using CNN\n",
        "model=Sequential()\n",
        "model.add(Conv2D(filters=16,kernel_size=2,padding=\"same\",activation=\"relu\",input_shape=(224,224,3)))\n",
        "model.add(MaxPooling2D(pool_size=2))\n",
        "model.add(Conv2D(filters=32,kernel_size=2,padding=\"same\",activation =\"relu\"))\n",
        "model.add(MaxPooling2D(pool_size=2))\n",
        "model.add(Conv2D(filters=64,kernel_size=2,padding=\"same\",activation=\"relu\"))\n",
        "model.add(MaxPooling2D(pool_size=2))\n",
        "model.add(Flatten())\n",
        "model.add(Dense(500,activation=\"relu\"))\n",
        "model.add(Dense(2,activation=\"softmax\"))\n",
        "model.summary()"
      ],
      "execution_count": 86,
      "outputs": [
        {
          "output_type": "stream",
          "name": "stdout",
          "text": [
            "Model: \"sequential_1\"\n",
            "_________________________________________________________________\n",
            "Layer (type)                 Output Shape              Param #   \n",
            "=================================================================\n",
            "conv2d_3 (Conv2D)            (None, 224, 224, 16)      208       \n",
            "_________________________________________________________________\n",
            "max_pooling2d_3 (MaxPooling2 (None, 112, 112, 16)      0         \n",
            "_________________________________________________________________\n",
            "conv2d_4 (Conv2D)            (None, 112, 112, 32)      2080      \n",
            "_________________________________________________________________\n",
            "max_pooling2d_4 (MaxPooling2 (None, 56, 56, 32)        0         \n",
            "_________________________________________________________________\n",
            "conv2d_5 (Conv2D)            (None, 56, 56, 64)        8256      \n",
            "_________________________________________________________________\n",
            "max_pooling2d_5 (MaxPooling2 (None, 28, 28, 64)        0         \n",
            "_________________________________________________________________\n",
            "flatten_3 (Flatten)          (None, 50176)             0         \n",
            "_________________________________________________________________\n",
            "dense_4 (Dense)              (None, 500)               25088500  \n",
            "_________________________________________________________________\n",
            "dense_5 (Dense)              (None, 2)                 1002      \n",
            "=================================================================\n",
            "Total params: 25,100,046\n",
            "Trainable params: 25,100,046\n",
            "Non-trainable params: 0\n",
            "_________________________________________________________________\n"
          ]
        }
      ]
    },
    {
      "cell_type": "code",
      "metadata": {
        "id": "wliYwy1VD6Io"
      },
      "source": [
        "# tell the model what cost and optimization method to use\n",
        "model.compile(\n",
        "  loss='categorical_crossentropy',\n",
        "  optimizer='adam',\n",
        "  metrics=['accuracy']\n",
        ")\n"
      ],
      "execution_count": 87,
      "outputs": []
    },
    {
      "cell_type": "code",
      "metadata": {
        "id": "2MB6tLp-D6Ip"
      },
      "source": [
        "# Use the Image Data Generator to import the images from the dataset\n",
        "from tensorflow.keras.preprocessing.image import ImageDataGenerator\n",
        "\n",
        "train_datagen = ImageDataGenerator(rescale = 1./255,\n",
        "                                   shear_range = 0.2,\n",
        "                                   zoom_range = 0.2,\n",
        "                                   horizontal_flip = True)\n",
        "\n",
        "test_datagen = ImageDataGenerator(rescale = 1./255)"
      ],
      "execution_count": 88,
      "outputs": []
    },
    {
      "cell_type": "code",
      "metadata": {
        "colab": {
          "base_uri": "https://localhost:8080/"
        },
        "id": "8eswDSXnD6Ip",
        "outputId": "b9092457-d76b-4196-c49f-a4c19c0ce479"
      },
      "source": [
        "# Make sure you provide the same target size as initialied for the image size\n",
        "training_set = train_datagen.flow_from_directory('Dataset/Train',\n",
        "                                                 target_size = (224, 224),\n",
        "                                                 batch_size = 32,\n",
        "                                                 class_mode = 'categorical')"
      ],
      "execution_count": 89,
      "outputs": [
        {
          "output_type": "stream",
          "name": "stdout",
          "text": [
            "Found 416 images belonging to 2 classes.\n"
          ]
        }
      ]
    },
    {
      "cell_type": "code",
      "metadata": {
        "colab": {
          "base_uri": "https://localhost:8080/"
        },
        "id": "gEh5XLqPD6Iq",
        "outputId": "3b4358fd-27d4-4a03-c047-d0926bfff864"
      },
      "source": [
        "training_set"
      ],
      "execution_count": 90,
      "outputs": [
        {
          "output_type": "execute_result",
          "data": {
            "text/plain": [
              "<keras.preprocessing.image.DirectoryIterator at 0x7faaa0e35a90>"
            ]
          },
          "metadata": {},
          "execution_count": 90
        }
      ]
    },
    {
      "cell_type": "code",
      "metadata": {
        "colab": {
          "base_uri": "https://localhost:8080/"
        },
        "id": "eXy9F0eTD6Iq",
        "outputId": "3d7d17a9-0d4c-4a6c-ebba-348ddc007058"
      },
      "source": [
        "test_set = test_datagen.flow_from_directory('Dataset/Test',\n",
        "                                            target_size = (224, 224),\n",
        "                                            batch_size = 32,\n",
        "                                            class_mode = 'categorical')"
      ],
      "execution_count": 91,
      "outputs": [
        {
          "output_type": "stream",
          "name": "stdout",
          "text": [
            "Found 134 images belonging to 2 classes.\n"
          ]
        }
      ]
    },
    {
      "cell_type": "code",
      "metadata": {
        "scrolled": true,
        "colab": {
          "base_uri": "https://localhost:8080/"
        },
        "id": "JYlYMXZ6D6Ir",
        "outputId": "859a9b20-afaa-4159-e907-d6c74d713dc4"
      },
      "source": [
        "# fit the model\n",
        "# Run the cell. It will take some time to execute\n",
        "r = model.fit_generator(\n",
        "  training_set,\n",
        "  validation_data=test_set,\n",
        "  epochs=50,\n",
        "  steps_per_epoch=len(training_set),\n",
        "  validation_steps=len(test_set)\n",
        ")"
      ],
      "execution_count": 92,
      "outputs": [
        {
          "output_type": "stream",
          "name": "stderr",
          "text": [
            "/usr/local/lib/python3.7/dist-packages/keras/engine/training.py:1972: UserWarning: `Model.fit_generator` is deprecated and will be removed in a future version. Please use `Model.fit`, which supports generators.\n",
            "  warnings.warn('`Model.fit_generator` is deprecated and '\n"
          ]
        },
        {
          "output_type": "stream",
          "name": "stdout",
          "text": [
            "Epoch 1/50\n",
            "13/13 [==============================] - 6s 427ms/step - loss: 1.2411 - accuracy: 0.5481 - val_loss: 0.7302 - val_accuracy: 0.4179\n",
            "Epoch 2/50\n",
            "13/13 [==============================] - 5s 413ms/step - loss: 0.6043 - accuracy: 0.6587 - val_loss: 0.7617 - val_accuracy: 0.3955\n",
            "Epoch 3/50\n",
            "13/13 [==============================] - 5s 410ms/step - loss: 0.5451 - accuracy: 0.7019 - val_loss: 0.7668 - val_accuracy: 0.4179\n",
            "Epoch 4/50\n",
            "13/13 [==============================] - 5s 410ms/step - loss: 0.5028 - accuracy: 0.7067 - val_loss: 0.8559 - val_accuracy: 0.3507\n",
            "Epoch 5/50\n",
            "13/13 [==============================] - 5s 414ms/step - loss: 0.4906 - accuracy: 0.7500 - val_loss: 0.8408 - val_accuracy: 0.4104\n",
            "Epoch 6/50\n",
            "13/13 [==============================] - 5s 410ms/step - loss: 0.4766 - accuracy: 0.7668 - val_loss: 0.6177 - val_accuracy: 0.6269\n",
            "Epoch 7/50\n",
            "13/13 [==============================] - 5s 414ms/step - loss: 0.4192 - accuracy: 0.8101 - val_loss: 0.9149 - val_accuracy: 0.4328\n",
            "Epoch 8/50\n",
            "13/13 [==============================] - 5s 409ms/step - loss: 0.4312 - accuracy: 0.8197 - val_loss: 0.7828 - val_accuracy: 0.4925\n",
            "Epoch 9/50\n",
            "13/13 [==============================] - 5s 414ms/step - loss: 0.3913 - accuracy: 0.8149 - val_loss: 0.8696 - val_accuracy: 0.5149\n",
            "Epoch 10/50\n",
            "13/13 [==============================] - 5s 412ms/step - loss: 0.4380 - accuracy: 0.8149 - val_loss: 0.6636 - val_accuracy: 0.5522\n",
            "Epoch 11/50\n",
            "13/13 [==============================] - 5s 413ms/step - loss: 0.3726 - accuracy: 0.8293 - val_loss: 0.6366 - val_accuracy: 0.6269\n",
            "Epoch 12/50\n",
            "13/13 [==============================] - 5s 413ms/step - loss: 0.3219 - accuracy: 0.8702 - val_loss: 0.4700 - val_accuracy: 0.7313\n",
            "Epoch 13/50\n",
            "13/13 [==============================] - 5s 410ms/step - loss: 0.3143 - accuracy: 0.8798 - val_loss: 0.5162 - val_accuracy: 0.7313\n",
            "Epoch 14/50\n",
            "13/13 [==============================] - 5s 413ms/step - loss: 0.3669 - accuracy: 0.8413 - val_loss: 0.4396 - val_accuracy: 0.7910\n",
            "Epoch 15/50\n",
            "13/13 [==============================] - 5s 409ms/step - loss: 0.3014 - accuracy: 0.8486 - val_loss: 0.4106 - val_accuracy: 0.7836\n",
            "Epoch 16/50\n",
            "13/13 [==============================] - 5s 407ms/step - loss: 0.2383 - accuracy: 0.8990 - val_loss: 0.3177 - val_accuracy: 0.8806\n",
            "Epoch 17/50\n",
            "13/13 [==============================] - 5s 410ms/step - loss: 0.1908 - accuracy: 0.9351 - val_loss: 0.3998 - val_accuracy: 0.8134\n",
            "Epoch 18/50\n",
            "13/13 [==============================] - 5s 407ms/step - loss: 0.1632 - accuracy: 0.9471 - val_loss: 0.2650 - val_accuracy: 0.8881\n",
            "Epoch 19/50\n",
            "13/13 [==============================] - 5s 404ms/step - loss: 0.1638 - accuracy: 0.9399 - val_loss: 0.2593 - val_accuracy: 0.8881\n",
            "Epoch 20/50\n",
            "13/13 [==============================] - 5s 406ms/step - loss: 0.1479 - accuracy: 0.9543 - val_loss: 0.3305 - val_accuracy: 0.8731\n",
            "Epoch 21/50\n",
            "13/13 [==============================] - 5s 408ms/step - loss: 0.1516 - accuracy: 0.9639 - val_loss: 0.3305 - val_accuracy: 0.8582\n",
            "Epoch 22/50\n",
            "13/13 [==============================] - 5s 407ms/step - loss: 0.1463 - accuracy: 0.9615 - val_loss: 0.3122 - val_accuracy: 0.8731\n",
            "Epoch 23/50\n",
            "13/13 [==============================] - 5s 406ms/step - loss: 0.1047 - accuracy: 0.9615 - val_loss: 0.1810 - val_accuracy: 0.9104\n",
            "Epoch 24/50\n",
            "13/13 [==============================] - 5s 402ms/step - loss: 0.1232 - accuracy: 0.9663 - val_loss: 0.2532 - val_accuracy: 0.8955\n",
            "Epoch 25/50\n",
            "13/13 [==============================] - 5s 410ms/step - loss: 0.0934 - accuracy: 0.9712 - val_loss: 0.2281 - val_accuracy: 0.9030\n",
            "Epoch 26/50\n",
            "13/13 [==============================] - 5s 410ms/step - loss: 0.0813 - accuracy: 0.9760 - val_loss: 0.2633 - val_accuracy: 0.8955\n",
            "Epoch 27/50\n",
            "13/13 [==============================] - 5s 406ms/step - loss: 0.1258 - accuracy: 0.9639 - val_loss: 0.2658 - val_accuracy: 0.8881\n",
            "Epoch 28/50\n",
            "13/13 [==============================] - 5s 405ms/step - loss: 0.0647 - accuracy: 0.9832 - val_loss: 0.1719 - val_accuracy: 0.9179\n",
            "Epoch 29/50\n",
            "13/13 [==============================] - 5s 405ms/step - loss: 0.1051 - accuracy: 0.9688 - val_loss: 0.2771 - val_accuracy: 0.8881\n",
            "Epoch 30/50\n",
            "13/13 [==============================] - 5s 407ms/step - loss: 0.0698 - accuracy: 0.9760 - val_loss: 0.1595 - val_accuracy: 0.9254\n",
            "Epoch 31/50\n",
            "13/13 [==============================] - 5s 406ms/step - loss: 0.0926 - accuracy: 0.9784 - val_loss: 0.2943 - val_accuracy: 0.8806\n",
            "Epoch 32/50\n",
            "13/13 [==============================] - 5s 411ms/step - loss: 0.0892 - accuracy: 0.9808 - val_loss: 0.2022 - val_accuracy: 0.9030\n",
            "Epoch 33/50\n",
            "13/13 [==============================] - 5s 412ms/step - loss: 0.0511 - accuracy: 0.9880 - val_loss: 0.2794 - val_accuracy: 0.8955\n",
            "Epoch 34/50\n",
            "13/13 [==============================] - 5s 407ms/step - loss: 0.0906 - accuracy: 0.9784 - val_loss: 0.3340 - val_accuracy: 0.8657\n",
            "Epoch 35/50\n",
            "13/13 [==============================] - 5s 405ms/step - loss: 0.1558 - accuracy: 0.9447 - val_loss: 0.3735 - val_accuracy: 0.8582\n",
            "Epoch 36/50\n",
            "13/13 [==============================] - 5s 405ms/step - loss: 0.1185 - accuracy: 0.9591 - val_loss: 0.3087 - val_accuracy: 0.8806\n",
            "Epoch 37/50\n",
            "13/13 [==============================] - 5s 406ms/step - loss: 0.0517 - accuracy: 0.9832 - val_loss: 0.2334 - val_accuracy: 0.9328\n",
            "Epoch 38/50\n",
            "13/13 [==============================] - 5s 413ms/step - loss: 0.0477 - accuracy: 0.9856 - val_loss: 0.3365 - val_accuracy: 0.8881\n",
            "Epoch 39/50\n",
            "13/13 [==============================] - 5s 404ms/step - loss: 0.0547 - accuracy: 0.9856 - val_loss: 0.4506 - val_accuracy: 0.8731\n",
            "Epoch 40/50\n",
            "13/13 [==============================] - 5s 404ms/step - loss: 0.0320 - accuracy: 0.9928 - val_loss: 0.2879 - val_accuracy: 0.9030\n",
            "Epoch 41/50\n",
            "13/13 [==============================] - 5s 403ms/step - loss: 0.0371 - accuracy: 0.9904 - val_loss: 0.1684 - val_accuracy: 0.9328\n",
            "Epoch 42/50\n",
            "13/13 [==============================] - 5s 412ms/step - loss: 0.0477 - accuracy: 0.9832 - val_loss: 0.3611 - val_accuracy: 0.8955\n",
            "Epoch 43/50\n",
            "13/13 [==============================] - 5s 415ms/step - loss: 0.0325 - accuracy: 0.9928 - val_loss: 0.2423 - val_accuracy: 0.9030\n",
            "Epoch 44/50\n",
            "13/13 [==============================] - 5s 413ms/step - loss: 0.0331 - accuracy: 0.9904 - val_loss: 0.2661 - val_accuracy: 0.9030\n",
            "Epoch 45/50\n",
            "13/13 [==============================] - 5s 409ms/step - loss: 0.0350 - accuracy: 0.9880 - val_loss: 0.2070 - val_accuracy: 0.9254\n",
            "Epoch 46/50\n",
            "13/13 [==============================] - 5s 410ms/step - loss: 0.0216 - accuracy: 0.9928 - val_loss: 0.3075 - val_accuracy: 0.9104\n",
            "Epoch 47/50\n",
            "13/13 [==============================] - 5s 417ms/step - loss: 0.0425 - accuracy: 0.9880 - val_loss: 0.2753 - val_accuracy: 0.9104\n",
            "Epoch 48/50\n",
            "13/13 [==============================] - 5s 417ms/step - loss: 0.0242 - accuracy: 1.0000 - val_loss: 0.2585 - val_accuracy: 0.9254\n",
            "Epoch 49/50\n",
            "13/13 [==============================] - 5s 410ms/step - loss: 0.0233 - accuracy: 0.9904 - val_loss: 0.2456 - val_accuracy: 0.9254\n",
            "Epoch 50/50\n",
            "13/13 [==============================] - 5s 406ms/step - loss: 0.0194 - accuracy: 0.9904 - val_loss: 0.1765 - val_accuracy: 0.9478\n"
          ]
        }
      ]
    },
    {
      "cell_type": "code",
      "metadata": {
        "colab": {
          "base_uri": "https://localhost:8080/",
          "height": 530
        },
        "id": "t1jCoXC_D6Is",
        "outputId": "272e76a1-bb3d-4a01-e723-8b10e2152b34"
      },
      "source": [
        "# plot the loss\n",
        "plt.plot(r.history['loss'], label='train loss')\n",
        "plt.plot(r.history['val_loss'], label='val loss')\n",
        "plt.legend()\n",
        "plt.show()\n",
        "plt.savefig('LossVal_loss')\n",
        "\n",
        "# plot the accuracy\n",
        "plt.plot(r.history['accuracy'], label='train acc')\n",
        "plt.plot(r.history['val_accuracy'], label='val acc')\n",
        "plt.legend()\n",
        "plt.show()\n",
        "plt.savefig('AccVal_acc')"
      ],
      "execution_count": 93,
      "outputs": [
        {
          "output_type": "display_data",
          "data": {
            "image/png": "[encoded data removed]",
            "text/plain": [
              "<Figure size 432x288 with 1 Axes>"
            ]
          },
          "metadata": {
            "needs_background": "light"
          }
        },
        {
          "output_type": "display_data",
          "data": {
            "image/png": "[encoded data removed]",
            "text/plain": [
              "<Figure size 432x288 with 1 Axes>"
            ]
          },
          "metadata": {
            "needs_background": "light"
          }
        },
        {
          "output_type": "display_data",
          "data": {
            "text/plain": [
              "<Figure size 432x288 with 0 Axes>"
            ]
          },
          "metadata": {}
        }
      ]
    },
    {
      "cell_type": "code",
      "metadata": {
        "id": "_AugkVPBD6Is"
      },
      "source": [
        "# save it as a h5 file\n",
        "\n",
        "\n",
        "from tensorflow.keras.models import load_model\n",
        "\n",
        "model.save('model_vgg19.h5')"
      ],
      "execution_count": 94,
      "outputs": []
    },
    {
      "cell_type": "code",
      "metadata": {
        "id": "sDshZjlWD6It"
      },
      "source": [
        ""
      ],
      "execution_count": 94,
      "outputs": []
    },
    {
      "cell_type": "code",
      "metadata": {
        "id": "Ft7bMgD7D6It"
      },
      "source": [
        "\n",
        "y_pred = model.predict(test_set)\n"
      ],
      "execution_count": 95,
      "outputs": []
    },
    {
      "cell_type": "code",
      "metadata": {
        "colab": {
          "base_uri": "https://localhost:8080/"
        },
        "id": "kr1t6fOGD6Iu",
        "outputId": "2318a855-d42b-417e-9429-9778a7fade1b"
      },
      "source": [
        "y_pred"
      ],
      "execution_count": 96,
      "outputs": [
        {
          "output_type": "execute_result",
          "data": {
            "text/plain": [
              "array([[9.99999881e-01, 6.84273118e-08],\n",
              "       [9.70415473e-01, 2.95845829e-02],\n",
              "       [9.96181250e-01, 3.81882722e-03],\n",
              "       [4.84740827e-03, 9.95152593e-01],\n",
              "       [2.00936571e-03, 9.97990608e-01],\n",
              "       [1.00000000e+00, 2.27834696e-11],\n",
              "       [9.99999762e-01, 2.37180956e-07],\n",
              "       [5.47700375e-02, 9.45230007e-01],\n",
              "       [1.00000000e+00, 7.76857708e-15],\n",
              "       [6.81732520e-02, 9.31826711e-01],\n",
              "       [1.62568279e-02, 9.83743131e-01],\n",
              "       [1.00000000e+00, 7.76235181e-16],\n",
              "       [2.43268404e-02, 9.75673199e-01],\n",
              "       [1.64873861e-02, 9.83512580e-01],\n",
              "       [5.76882809e-03, 9.94231224e-01],\n",
              "       [1.00000000e+00, 4.95058161e-10],\n",
              "       [2.11049393e-02, 9.78895068e-01],\n",
              "       [9.99985456e-01, 1.45294080e-05],\n",
              "       [1.67735722e-02, 9.83226478e-01],\n",
              "       [3.39924428e-03, 9.96600807e-01],\n",
              "       [7.34494301e-03, 9.92655039e-01],\n",
              "       [7.31937587e-01, 2.68062443e-01],\n",
              "       [3.19898216e-04, 9.99680161e-01],\n",
              "       [1.00000000e+00, 1.68621545e-17],\n",
              "       [9.99999523e-01, 4.56854764e-07],\n",
              "       [1.01082679e-02, 9.89891768e-01],\n",
              "       [2.03494867e-03, 9.97965097e-01],\n",
              "       [9.99858737e-01, 1.41271870e-04],\n",
              "       [1.16624981e-02, 9.88337457e-01],\n",
              "       [1.00000000e+00, 1.34737519e-08],\n",
              "       [1.00000000e+00, 3.07269188e-09],\n",
              "       [9.91905212e-01, 8.09471402e-03],\n",
              "       [1.00000000e+00, 5.42852352e-12],\n",
              "       [1.00000000e+00, 2.93346130e-08],\n",
              "       [9.99969006e-01, 3.10332398e-05],\n",
              "       [9.99999881e-01, 1.18166518e-07],\n",
              "       [9.98366892e-01, 1.63314515e-03],\n",
              "       [9.99979734e-01, 2.02834672e-05],\n",
              "       [9.99982119e-01, 1.79003619e-05],\n",
              "       [9.99994993e-01, 4.95023642e-06],\n",
              "       [9.99951959e-01, 4.80807284e-05],\n",
              "       [7.81863987e-01, 2.18136013e-01],\n",
              "       [1.76822077e-02, 9.82317805e-01],\n",
              "       [2.14851578e-03, 9.97851491e-01],\n",
              "       [1.32680929e-03, 9.98673201e-01],\n",
              "       [4.82706353e-03, 9.95172918e-01],\n",
              "       [9.99999046e-01, 9.18348348e-07],\n",
              "       [1.90873549e-03, 9.98091280e-01],\n",
              "       [1.00000000e+00, 3.53155905e-08],\n",
              "       [1.00000000e+00, 4.55548701e-08],\n",
              "       [2.77257222e-03, 9.97227371e-01],\n",
              "       [9.99994993e-01, 4.97467545e-06],\n",
              "       [1.00000000e+00, 5.62091602e-21],\n",
              "       [9.99977350e-01, 2.26659104e-05],\n",
              "       [1.00000000e+00, 2.08869935e-08],\n",
              "       [1.00000000e+00, 1.90604572e-23],\n",
              "       [1.00000000e+00, 8.02742942e-12],\n",
              "       [6.78496957e-02, 9.32150304e-01],\n",
              "       [9.99999881e-01, 1.24378232e-07],\n",
              "       [1.00000000e+00, 4.17474361e-10],\n",
              "       [1.00000000e+00, 4.39681571e-08],\n",
              "       [9.09927726e-01, 9.00722519e-02],\n",
              "       [1.00000000e+00, 1.13476162e-08],\n",
              "       [1.13304682e-01, 8.86695325e-01],\n",
              "       [9.57927763e-01, 4.20722254e-02],\n",
              "       [7.99953844e-03, 9.92000461e-01],\n",
              "       [9.99998212e-01, 1.79533504e-06],\n",
              "       [1.00000000e+00, 3.22405747e-08],\n",
              "       [1.00000000e+00, 2.05855732e-12],\n",
              "       [1.00000000e+00, 4.60004961e-20],\n",
              "       [1.00000000e+00, 6.78068786e-21],\n",
              "       [8.29682827e-01, 1.70317098e-01],\n",
              "       [9.99990940e-01, 9.04657463e-06],\n",
              "       [7.63702323e-04, 9.99236345e-01],\n",
              "       [1.17169146e-03, 9.98828351e-01],\n",
              "       [3.28605971e-03, 9.96713996e-01],\n",
              "       [1.00000000e+00, 1.57989017e-08],\n",
              "       [9.99999166e-01, 8.25548170e-07],\n",
              "       [1.00000000e+00, 2.54912513e-09],\n",
              "       [1.14475369e-01, 8.85524571e-01],\n",
              "       [3.71242757e-03, 9.96287584e-01],\n",
              "       [1.59563154e-01, 8.40436876e-01],\n",
              "       [3.63502532e-01, 6.36497498e-01],\n",
              "       [9.99776900e-01, 2.23088966e-04],\n",
              "       [1.57182943e-02, 9.84281719e-01],\n",
              "       [1.00000000e+00, 1.03698605e-10],\n",
              "       [9.86009717e-01, 1.39902141e-02],\n",
              "       [1.09939929e-02, 9.89006042e-01],\n",
              "       [9.33590308e-02, 9.06641006e-01],\n",
              "       [1.04032247e-03, 9.98959661e-01],\n",
              "       [1.00000000e+00, 1.45331915e-11],\n",
              "       [5.37684327e-03, 9.94623184e-01],\n",
              "       [1.00000000e+00, 9.94650885e-16],\n",
              "       [9.99998808e-01, 1.17790103e-06],\n",
              "       [9.99981880e-01, 1.80631851e-05],\n",
              "       [9.99970913e-01, 2.91294091e-05],\n",
              "       [9.99887943e-01, 1.12056157e-04],\n",
              "       [6.30946219e-01, 3.69053751e-01],\n",
              "       [9.99999046e-01, 8.98710368e-07],\n",
              "       [9.99999881e-01, 9.18744547e-08],\n",
              "       [9.99873161e-01, 1.26793602e-04],\n",
              "       [3.55960689e-02, 9.64403927e-01],\n",
              "       [9.99992967e-01, 7.03882461e-06],\n",
              "       [9.99999642e-01, 3.16203682e-07],\n",
              "       [5.29050753e-02, 9.47094917e-01],\n",
              "       [4.41938313e-03, 9.95580614e-01],\n",
              "       [9.99999523e-01, 4.18041367e-07],\n",
              "       [1.00000000e+00, 1.81374501e-12],\n",
              "       [9.61545389e-03, 9.90384579e-01],\n",
              "       [8.32098424e-01, 1.67901620e-01],\n",
              "       [1.15400283e-02, 9.88459945e-01],\n",
              "       [1.00000000e+00, 2.08963047e-09],\n",
              "       [9.99999762e-01, 2.15835882e-07],\n",
              "       [9.99938607e-01, 6.13639568e-05],\n",
              "       [8.83516204e-03, 9.91164863e-01],\n",
              "       [9.99450028e-01, 5.49951801e-04],\n",
              "       [9.97801363e-01, 2.19863770e-03],\n",
              "       [1.00000000e+00, 3.57805057e-08],\n",
              "       [5.24576870e-04, 9.99475420e-01],\n",
              "       [6.63127983e-03, 9.93368685e-01],\n",
              "       [2.43436685e-03, 9.97565627e-01],\n",
              "       [1.00000000e+00, 2.18800302e-08],\n",
              "       [1.00000000e+00, 1.57162252e-11],\n",
              "       [1.00000000e+00, 5.33335243e-09],\n",
              "       [2.99141295e-02, 9.70085859e-01],\n",
              "       [9.99999285e-01, 6.66220558e-07],\n",
              "       [3.00306943e-03, 9.96996999e-01],\n",
              "       [3.06420634e-03, 9.96935844e-01],\n",
              "       [1.68239046e-02, 9.83176112e-01],\n",
              "       [1.00000000e+00, 2.18739350e-12],\n",
              "       [1.00000000e+00, 1.10770400e-26],\n",
              "       [1.00000000e+00, 3.43127107e-27],\n",
              "       [9.99995828e-01, 4.14264196e-06],\n",
              "       [9.99997854e-01, 2.16689045e-06]], dtype=float32)"
            ]
          },
          "metadata": {},
          "execution_count": 96
        }
      ]
    },
    {
      "cell_type": "code",
      "metadata": {
        "id": "6S9spaWtD6Iu"
      },
      "source": [
        "import numpy as np\n",
        "y_pred = np.argmax(y_pred, axis=1)"
      ],
      "execution_count": 97,
      "outputs": []
    },
    {
      "cell_type": "code",
      "metadata": {
        "colab": {
          "base_uri": "https://localhost:8080/"
        },
        "id": "qIv06_AGD6Iu",
        "outputId": "6c7e73b0-6579-4069-d603-5c6b789b24bf"
      },
      "source": [
        "y_pred"
      ],
      "execution_count": 98,
      "outputs": [
        {
          "output_type": "execute_result",
          "data": {
            "text/plain": [
              "array([0, 0, 0, 1, 1, 0, 0, 1, 0, 1, 1, 0, 1, 1, 1, 0, 1, 0, 1, 1, 1, 0,\n",
              "       1, 0, 0, 1, 1, 0, 1, 0, 0, 0, 0, 0, 0, 0, 0, 0, 0, 0, 0, 0, 1, 1,\n",
              "       1, 1, 0, 1, 0, 0, 1, 0, 0, 0, 0, 0, 0, 1, 0, 0, 0, 0, 0, 1, 0, 1,\n",
              "       0, 0, 0, 0, 0, 0, 0, 1, 1, 1, 0, 0, 0, 1, 1, 1, 1, 0, 1, 0, 0, 1,\n",
              "       1, 1, 0, 1, 0, 0, 0, 0, 0, 0, 0, 0, 0, 1, 0, 0, 1, 1, 0, 0, 1, 0,\n",
              "       1, 0, 0, 0, 1, 0, 0, 0, 1, 1, 1, 0, 0, 0, 1, 0, 1, 1, 1, 0, 0, 0,\n",
              "       0, 0])"
            ]
          },
          "metadata": {},
          "execution_count": 98
        }
      ]
    },
    {
      "cell_type": "code",
      "metadata": {
        "id": "pv_SeL2HD6Iv"
      },
      "source": [
        ""
      ],
      "execution_count": 98,
      "outputs": []
    },
    {
      "cell_type": "code",
      "metadata": {
        "id": "vWuIQNH8D6Iv"
      },
      "source": [
        "from tensorflow.keras.models import load_model\n",
        "from tensorflow.keras.preprocessing import image"
      ],
      "execution_count": 99,
      "outputs": []
    },
    {
      "cell_type": "code",
      "metadata": {
        "id": "_E9BGncMD6Iv"
      },
      "source": [
        "model=load_model('model_vgg19.h5')"
      ],
      "execution_count": 100,
      "outputs": []
    },
    {
      "cell_type": "code",
      "metadata": {
        "id": "bK608WT6D6Iv"
      },
      "source": [
        ""
      ],
      "execution_count": 100,
      "outputs": []
    },
    {
      "cell_type": "code",
      "metadata": {
        "id": "z46RoXQ_D6Iv"
      },
      "source": [
        "img=image.load_img('/content/Dataset/Test/Parasite/C39P4thinF_original_IMG_20150622_105554_cell_17.png',target_size=(224,224))\n",
        "\n"
      ],
      "execution_count": 101,
      "outputs": []
    },
    {
      "cell_type": "code",
      "metadata": {
        "colab": {
          "base_uri": "https://localhost:8080/"
        },
        "id": "08lcCRRVD6Iw",
        "outputId": "ac05b3f9-e9c3-4e2b-b50c-425113f1f22a"
      },
      "source": [
        "x=image.img_to_array(img)\n",
        "x"
      ],
      "execution_count": 102,
      "outputs": [
        {
          "output_type": "execute_result",
          "data": {
            "text/plain": [
              "array([[[0., 0., 0.],\n",
              "        [0., 0., 0.],\n",
              "        [0., 0., 0.],\n",
              "        ...,\n",
              "        [0., 0., 0.],\n",
              "        [0., 0., 0.],\n",
              "        [0., 0., 0.]],\n",
              "\n",
              "       [[0., 0., 0.],\n",
              "        [0., 0., 0.],\n",
              "        [0., 0., 0.],\n",
              "        ...,\n",
              "        [0., 0., 0.],\n",
              "        [0., 0., 0.],\n",
              "        [0., 0., 0.]],\n",
              "\n",
              "       [[0., 0., 0.],\n",
              "        [0., 0., 0.],\n",
              "        [0., 0., 0.],\n",
              "        ...,\n",
              "        [0., 0., 0.],\n",
              "        [0., 0., 0.],\n",
              "        [0., 0., 0.]],\n",
              "\n",
              "       ...,\n",
              "\n",
              "       [[0., 0., 0.],\n",
              "        [0., 0., 0.],\n",
              "        [0., 0., 0.],\n",
              "        ...,\n",
              "        [0., 0., 0.],\n",
              "        [0., 0., 0.],\n",
              "        [0., 0., 0.]],\n",
              "\n",
              "       [[0., 0., 0.],\n",
              "        [0., 0., 0.],\n",
              "        [0., 0., 0.],\n",
              "        ...,\n",
              "        [0., 0., 0.],\n",
              "        [0., 0., 0.],\n",
              "        [0., 0., 0.]],\n",
              "\n",
              "       [[0., 0., 0.],\n",
              "        [0., 0., 0.],\n",
              "        [0., 0., 0.],\n",
              "        ...,\n",
              "        [0., 0., 0.],\n",
              "        [0., 0., 0.],\n",
              "        [0., 0., 0.]]], dtype=float32)"
            ]
          },
          "metadata": {},
          "execution_count": 102
        }
      ]
    },
    {
      "cell_type": "code",
      "metadata": {
        "colab": {
          "base_uri": "https://localhost:8080/"
        },
        "id": "Ebh49SFPD6Iw",
        "outputId": "7c3ef407-9f4a-434a-8de1-f04ece889a80"
      },
      "source": [
        "x.shape"
      ],
      "execution_count": 103,
      "outputs": [
        {
          "output_type": "execute_result",
          "data": {
            "text/plain": [
              "(224, 224, 3)"
            ]
          },
          "metadata": {},
          "execution_count": 103
        }
      ]
    },
    {
      "cell_type": "code",
      "metadata": {
        "id": "Q6pKV0FMD6Iw"
      },
      "source": [
        "x=x/255"
      ],
      "execution_count": 104,
      "outputs": []
    },
    {
      "cell_type": "code",
      "metadata": {
        "colab": {
          "base_uri": "https://localhost:8080/"
        },
        "id": "U2Xoy8BeD6Iw",
        "outputId": "68d06281-baa4-405c-e921-e7b99fb4aa83"
      },
      "source": [
        "x=np.expand_dims(x,axis=0)\n",
        "img_data=preprocess_input(x)\n",
        "img_data.shape"
      ],
      "execution_count": 105,
      "outputs": [
        {
          "output_type": "execute_result",
          "data": {
            "text/plain": [
              "(1, 224, 224, 3)"
            ]
          },
          "metadata": {},
          "execution_count": 105
        }
      ]
    },
    {
      "cell_type": "code",
      "metadata": {
        "colab": {
          "base_uri": "https://localhost:8080/"
        },
        "id": "NqVv09UTD6Ix",
        "outputId": "cfe0b647-b3b4-42d8-ac49-bdf40acd4fd9"
      },
      "source": [
        "model.predict(img_data)"
      ],
      "execution_count": 106,
      "outputs": [
        {
          "output_type": "execute_result",
          "data": {
            "text/plain": [
              "array([[0., 1.]], dtype=float32)"
            ]
          },
          "metadata": {},
          "execution_count": 106
        }
      ]
    },
    {
      "cell_type": "code",
      "metadata": {
        "id": "Bk7mo4blD6Ix"
      },
      "source": [
        "a=np.argmax(model.predict(img_data), axis=1)"
      ],
      "execution_count": 107,
      "outputs": []
    },
    {
      "cell_type": "code",
      "metadata": {
        "colab": {
          "base_uri": "https://localhost:8080/"
        },
        "id": "PgfFFOhoD6Ix",
        "outputId": "f62b752a-2023-431d-9b45-8a4afa504f4f"
      },
      "source": [
        "if(a==1):\n",
        "    print(\"Uninfected\")\n",
        "else:\n",
        "    print(\"Infected\")"
      ],
      "execution_count": 108,
      "outputs": [
        {
          "output_type": "stream",
          "name": "stdout",
          "text": [
            "Uninfected\n"
          ]
        }
      ]
    },
    {
      "cell_type": "code",
      "metadata": {
        "colab": {
          "base_uri": "https://localhost:8080/"
        },
        "id": "26RFDxB8D6Ix",
        "outputId": "78cf82fc-6ddc-4f3a-82cb-1c2754fc276b"
      },
      "source": [
        "!nvidia-smi"
      ],
      "execution_count": 109,
      "outputs": [
        {
          "output_type": "stream",
          "name": "stdout",
          "text": [
            "Mon Nov  1 06:35:15 2021       \n",
            "+-----------------------------------------------------------------------------+\n",
            "| NVIDIA-SMI 495.29.05    Driver Version: 460.32.03    CUDA Version: 11.2     |\n",
            "|-------------------------------+----------------------+----------------------+\n",
            "| GPU  Name        Persistence-M| Bus-Id        Disp.A | Volatile Uncorr. ECC |\n",
            "| Fan  Temp  Perf  Pwr:Usage/Cap|         Memory-Usage | GPU-Util  Compute M. |\n",
            "|                               |                      |               MIG M. |\n",
            "|===============================+======================+======================|\n",
            "|   0  Tesla K80           Off  | 00000000:00:04.0 Off |                    0 |\n",
            "| N/A   54C    P0    60W / 149W |   2301MiB / 11441MiB |      0%      Default |\n",
            "|                               |                      |                  N/A |\n",
            "+-------------------------------+----------------------+----------------------+\n",
            "                                                                               \n",
            "+-----------------------------------------------------------------------------+\n",
            "| Processes:                                                                  |\n",
            "|  GPU   GI   CI        PID   Type   Process name                  GPU Memory |\n",
            "|        ID   ID                                                   Usage      |\n",
            "|=============================================================================|\n",
            "|  No running processes found                                                 |\n",
            "+-----------------------------------------------------------------------------+\n"
          ]
        }
      ]
    },
    {
      "cell_type": "code",
      "metadata": {
        "id": "0Zau1RIxD6Ix"
      },
      "source": [
        ""
      ],
      "execution_count": 108,
      "outputs": []
    }
  ]
}